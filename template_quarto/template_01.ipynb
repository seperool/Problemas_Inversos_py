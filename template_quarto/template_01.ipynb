{
 "cells": [
  {
   "cell_type": "raw",
   "metadata": {},
   "source": [
    "#| echo: false  \n",
    "\n",
    "---\n",
    "lang: pt\n",
    "format: \n",
    "  html:\n",
    "    fig-pos: 'h'\n",
    "    number-sections: true\n",
    "    mainfont: Times New Roman\n",
    "  docx:\n",
    "    title: Algoritmo de Gauss-Jacobi para solução de um sistema linear de 5 variáveis\n",
    "    number-sections: true\n",
    "    reference-doc: custom_output.docx\n",
    "    mainfont: Arial\n",
    "    geometry: \n",
    "      - top=30mm\n",
    "      - left=30mm\n",
    "jupyter: python3\n",
    "\n",
    "---\n",
    "\n"
   ]
  },
  {
   "cell_type": "code",
   "execution_count": 66,
   "metadata": {},
   "outputs": [],
   "source": [
    "#| echo: false  \n",
    "\n",
    "import numpy as np \n",
    "import matplotlib.pyplot as plt \n",
    "\n",
    "from IPython.display import Latex as lt\n",
    "from IPython.display import Markdown as md\n",
    "from IPython.display import Math\n",
    "from IPython.display import HTML\n",
    "\n",
    "from tabulate import tabulate\n",
    "\n",
    "from IPython.display import display\n",
    "def printmd(string):\n",
    "    display(md(string))\n",
    "\n",
    "from sympy import *\n",
    "x, y, z, t = symbols('x y z t')\n",
    "\n",
    "\n",
    "# variável global para contar equações\n",
    "eq_num = 0\n",
    "fig_num = 0"
   ]
  },
  {
   "attachments": {},
   "cell_type": "markdown",
   "metadata": {},
   "source": [
    "<center><font size=6> <b>Algoritmo de Gauss-Jacobi para solução de um sistema linear de n variáveis </b> </font size></center>\n",
    "\n",
    "\\ \n",
    "\n",
    "**Bacharelado em Engenharia Elétrica**\\ \n",
    "**Centro Federal de Educação Tecnológica Celso Suckow da Fonseca**\\\n",
    "**Profs:** &emsp; &emsp; \\  Ademilton Luiz Rodrigues de Souza\\\n",
    "&emsp; &emsp; &emsp;&emsp;&emsp;    Daniel Gomes Ribeiro\\\n",
    "**Disciplina**: \\ \\ \\ \\ Introdução aos Problemas Inversos\\\n",
    "**Alunos**: \\ \\ \\ \\ \\ \\ \\ \\  Aluno(a)_1, Aluno(a)_2 ... em ordem alfabética\\\n",
    "\n",
    "\\  "
   ]
  },
  {
   "attachments": {},
   "cell_type": "markdown",
   "metadata": {},
   "source": [
    "# &ensp; Introdução\n",
    "(Contextualize o problema abordado)\n",
    "O problema de se determinar xyz aparece em contextos de... Texto aqui, texto aqui, texto aqui, texto aqui, texto aqui, texto aqui, texto aqui, texto aqui, texto aqui, texto aqui, texto aqui, texto aqui, texto aqui, \n",
    "\n",
    "Para exibir uma equação, podemos usar uma mistura de código e markdown"
   ]
  },
  {
   "cell_type": "code",
   "execution_count": 67,
   "metadata": {},
   "outputs": [
    {
     "data": {
      "text/markdown": [
       "$\\int _{0}^{1} f(t)dt \\hspace{10em}$ (1)"
      ],
      "text/plain": [
       "<IPython.core.display.Markdown object>"
      ]
     },
     "metadata": {},
     "output_type": "display_data"
    },
    {
     "data": {
      "text/markdown": [
       "$\\int _0^1 3 x^{2} + 11 x \\ dx \\hspace{10em}$"
      ],
      "text/plain": [
       "<IPython.core.display.Markdown object>"
      ]
     },
     "metadata": {},
     "output_type": "display_data"
    }
   ],
   "source": [
    "#| echo: false  \n",
    "# forçando um espaço (caso seja necessário). Ao menos a variável eq_num é atualizada ao todar o código. \n",
    "# Se rodar várias vezes o mesmo bloco, a numeração estará errada. Ao rodar cada bloco uma vez irá funcionar. Mas assim você terá controle \n",
    "# da numeração automática.\n",
    "eq_num += 1\n",
    "\n",
    "texto = '$\\int _{0}^{1} f(t)dt'+ ' \\hspace{10em}$' + ' ('+str(eq_num)+')'\n",
    "printmd( texto );\n",
    "\n",
    "\n",
    "# função definida usando a variável x, que foi definida como um símbolo\n",
    "funct=3*x**2 + 11*x\n",
    "\n",
    "texto = f'$\\int _{0}^{1} { latex(funct) } \\ dx'+ ' \\hspace{10em}$' \n",
    "\n",
    "printmd( texto );\n",
    "\n"
   ]
  },
  {
   "attachments": {},
   "cell_type": "markdown",
   "metadata": {},
   "source": [
    "Para centralizar sem numerar é fácil: "
   ]
  },
  {
   "cell_type": "code",
   "execution_count": 68,
   "metadata": {},
   "outputs": [
    {
     "data": {
      "text/markdown": [
       "$$ \\int_{1}^{2} x^6 dt $$"
      ],
      "text/plain": [
       "<IPython.core.display.Markdown object>"
      ]
     },
     "metadata": {},
     "output_type": "display_data"
    }
   ],
   "source": [
    "#| echo: false  \n",
    "# jeito certo de centralizar mas sem numerar, com $$ na fórmula\n",
    "\n",
    "\n",
    "expoente= 6\n",
    "\n",
    "texto = '$$ \\int_{1}^{2} x^' + str(expoente) + ' dt $$'\n",
    "\n",
    "\n",
    "printmd( (texto) );\n"
   ]
  },
  {
   "cell_type": "markdown",
   "metadata": {},
   "source": []
  },
  {
   "attachments": {},
   "cell_type": "markdown",
   "metadata": {},
   "source": [
    "Jeito correto de centralizar com numeração sem usar variável, numerando **manualmente**:"
   ]
  },
  {
   "cell_type": "code",
   "execution_count": null,
   "metadata": {},
   "outputs": [],
   "source": []
  },
  {
   "cell_type": "raw",
   "metadata": {},
   "source": [
    "#| echo: false  \n",
    "<table style=\"width: 100%\">\n",
    "    <colgroup>\n",
    "       <col style=\"width: 94%;\" >\n",
    "       <col style=\"width: 6%;\">\n",
    "    </colgroup>\n",
    "\n",
    "    <tbody>\n",
    "        <tr>\n",
    "            <td align=\"center\">$$\\intop_0^1f(x)dx=\\pi\\text{.}$$</td>\n",
    "            <td align=\"left\">(1)</td>\n",
    "        </tr>\n",
    "    </tbody>\n",
    "</table>"
   ]
  },
  {
   "attachments": {},
   "cell_type": "markdown",
   "metadata": {},
   "source": [
    "Jeito correto de centralizar com numeração e usando variável: vou precisar \"quebrar\" os comandos: iniciar um código html para criar uma tabela invisível, em que numa coluna temos a equação (tomando 94% da margem) e em outra temos a numeração (usando os 6% restantes da margem). Depois uso código em Python para inserir a integral (ou qualquer outra expressão) usando o printmd. Encerro o codigo de tabela da primeira coluna, inicio o código da segunda coluna e uso novamente o printmd para imprimir a variável com o numero da euqação"
   ]
  },
  {
   "attachments": {},
   "cell_type": "raw",
   "metadata": {},
   "source": [
    "<table style=\"width: 100%\">\n",
    "    <colgroup>\n",
    "       <col style=\"width: 94%;\" >\n",
    "       <col style=\"width: 6%;\">\n",
    "    </colgroup>\n",
    "\n",
    "    <tbody>\n",
    "        <tr>\n",
    "            <td align=\"center\">"
   ]
  },
  {
   "cell_type": "code",
   "execution_count": 69,
   "metadata": {},
   "outputs": [
    {
     "data": {
      "text/markdown": [
       "$$ \\int_{1}^{2} x^6 dt $$"
      ],
      "text/plain": [
       "<IPython.core.display.Markdown object>"
      ]
     },
     "metadata": {},
     "output_type": "display_data"
    }
   ],
   "source": [
    "#| echo: false  \n",
    "# tivemos que quebrar o código HTML e usar o comando de imprimir coisas em latex para o Quarto \n",
    "# ordenar as colunas e numerar corretamente as equações\n",
    "texto = '$$ \\int_{1}^{2} x^' + str(expoente) + ' dt $$'\n",
    "printmd( (texto) );"
   ]
  },
  {
   "cell_type": "raw",
   "metadata": {},
   "source": [
    "</td>\n",
    "            <td align=\"left\">"
   ]
  },
  {
   "cell_type": "code",
   "execution_count": 70,
   "metadata": {},
   "outputs": [
    {
     "data": {
      "text/markdown": [
       "$(2)$"
      ],
      "text/plain": [
       "<IPython.core.display.Markdown object>"
      ]
     },
     "metadata": {},
     "output_type": "display_data"
    }
   ],
   "source": [
    "#| echo: false  \n",
    "eq_num += 1\n",
    "texto = f'$({eq_num})$'\n",
    "printmd( (texto) );"
   ]
  },
  {
   "cell_type": "raw",
   "metadata": {},
   "source": [
    "</td>\n",
    "        </tr>\n",
    "    </tbody>\n",
    "</table>"
   ]
  },
  {
   "attachments": {},
   "cell_type": "markdown",
   "metadata": {},
   "source": [
    "Para visualizar o documento enquanto edita sem a necessidade de gerar um docx, use o seguinte comando\n",
    "\n",
    "> **quarto preview .\\\\template.ipynb**\n",
    "\n",
    "\n",
    "Para exportar o documento para docx, abra uma prompt de comando na pasta onde está o projeto e digite\n",
    "\n",
    "> **quarto render .\\\\template.ipynb --to docx**\n",
    "\n",
    "Abaixo veja que estamos incluindo uma imagem para ser exibida"
   ]
  },
  {
   "attachments": {},
   "cell_type": "markdown",
   "metadata": {},
   "source": [
    "<center>"
   ]
  },
  {
   "cell_type": "code",
   "execution_count": 71,
   "metadata": {},
   "outputs": [
    {
     "data": {
      "image/png": "[encoded data removed]",
      "text/plain": [
       "<Figure size 240x240 with 1 Axes>"
      ]
     },
     "metadata": {},
     "output_type": "display_data"
    }
   ],
   "source": [
    "#| echo: false  \n",
    "\n",
    "#| label: fig-seno(x)-plot\n",
    "#| fig-cap: \"funcão sen(x)\"\n",
    "\n",
    "\n",
    "import numpy as np\n",
    "import matplotlib.pyplot as plt\n",
    "\n",
    "X = np.linspace(0,5,100);\n",
    "Y = np.sin(X);\n",
    "\n",
    "plt.figure(figsize=(2,2), dpi=120);\n",
    "plt.plot(X,Y);\n",
    "fig_num +=1\n"
   ]
  },
  {
   "cell_type": "code",
   "execution_count": 72,
   "metadata": {},
   "outputs": [
    {
     "data": {
      "text/markdown": [
       "Figura 1: um gráfico."
      ],
      "text/plain": [
       "<IPython.core.display.Markdown object>"
      ]
     },
     "metadata": {},
     "output_type": "display_data"
    }
   ],
   "source": [
    "#| echo: false  \n",
    "printmd('Figura '+str(fig_num)+': um gráfico.')"
   ]
  },
  {
   "attachments": {},
   "cell_type": "markdown",
   "metadata": {},
   "source": [
    "</center>"
   ]
  },
  {
   "attachments": {},
   "cell_type": "markdown",
   "metadata": {},
   "source": [
    "Aqui voltou a ficar na esquerda"
   ]
  },
  {
   "attachments": {},
   "cell_type": "markdown",
   "metadata": {},
   "source": [
    "# &ensp; Objetivos\n",
    "O trabalho aqui desenvolvido se propõe a ...\n",
    "Nosso trabalho tem objetivo de testar...\n",
    "\n",
    "Como faríamos para exibir uma tabela? Sendo apenas no markdown, seria assim:\n",
    "\n",
    "|coluna 1| coluna 2|\n",
    "|:------:|:-------:|\n",
    "|2       |4        |\n",
    "|6       |-3       |\n",
    "\n",
    "Se for necessário incluir valores calculados no python, precisaremos usar o comando do printmd, como abaixo:"
   ]
  },
  {
   "cell_type": "code",
   "execution_count": 73,
   "metadata": {},
   "outputs": [
    {
     "data": {
      "text/markdown": [
       "Coluna 1      Coluna 2    Coluna 3\n",
       "----------  ----------  ----------\n",
       "Linha 1           -4.5        3.17\n",
       "Linha 2           15.5      -89\n",
       "Linha 3            1         -9"
      ],
      "text/plain": [
       "<IPython.core.display.Markdown object>"
      ]
     },
     "metadata": {},
     "output_type": "display_data"
    }
   ],
   "source": [
    "#| echo: false  \n",
    "\n",
    "table = [ ['Linha 1', -4.5, 3.17], ['Linha 2', 15.5, -89], ['Linha 3', 1, -9] ]\n",
    "\n",
    "printmd(tabulate(table, headers=['Coluna 1', 'Coluna 2', 'Coluna 3']))\n",
    "\n"
   ]
  },
  {
   "attachments": {},
   "cell_type": "markdown",
   "metadata": {},
   "source": [
    "Claro que você também pode usar o modo markdown por conveniência: "
   ]
  },
  {
   "cell_type": "code",
   "execution_count": 74,
   "metadata": {},
   "outputs": [
    {
     "data": {
      "text/markdown": [
       "|coluna 1| coluna 2|\n",
       "|:------:|:-------:|\n",
       "|2       |4        |\n",
       "|6       |-3       |"
      ],
      "text/plain": [
       "<IPython.core.display.Markdown object>"
      ]
     },
     "metadata": {},
     "output_type": "display_data"
    }
   ],
   "source": [
    "table = '|coluna 1| coluna 2|\\n|:------:|:-------:|\\n|2       |4        |\\n|6       |-3       |'\n",
    "\n",
    "printmd(table)"
   ]
  },
  {
   "attachments": {},
   "cell_type": "markdown",
   "metadata": {},
   "source": [
    "E se precisar incluir variável numérica ou uma equação em latex?"
   ]
  },
  {
   "cell_type": "code",
   "execution_count": 75,
   "metadata": {},
   "outputs": [
    {
     "data": {
      "text/markdown": [
       "|coluna 1| coluna 2|\n",
       "|:------:|:-------:|\n",
       "|2       |4        |\n",
       "|6       |$\\int\\limits_{0}^{1} \\left(x^{2} + x\\right)\\, dx$       |"
      ],
      "text/plain": [
       "<IPython.core.display.Markdown object>"
      ]
     },
     "metadata": {},
     "output_type": "display_data"
    }
   ],
   "source": [
    "fun = x*x+x\n",
    "INT = Integral(fun, (x,0,1))\n",
    "\n",
    "INT_print = f'${latex(INT)}$'\n",
    "\n",
    "table = f'|coluna 1| coluna 2|\\n|:------:|:-------:|\\n|2       |4        |\\n|6       |'+(INT_print)+'       |'\n",
    "\n",
    "printmd( table )"
   ]
  },
  {
   "attachments": {},
   "cell_type": "markdown",
   "metadata": {},
   "source": [
    "# &ensp; Metodologia\n",
    "(Explique como o método usado, as etapas)\n",
    "foi implementado o algoritmo xyz para resolver o problema A. Esse algoritmo é composto das seguintes etapas...\n",
    "\n",
    "## &ensp; Algoritmo 1\n",
    "Aqui fazemos A\n",
    "\n",
    "## &ensp; Algoritmo 2\n",
    "Aqui fazemos B"
   ]
  },
  {
   "attachments": {},
   "cell_type": "markdown",
   "metadata": {},
   "source": [
    "# &ensp;Resultados obtidos\n",
    "(Apresente os resultados dos experimentos, cálculos etc)\n",
    "O algoritmo proposto foi implementado em Python (código disponível nos anexos). os dados...\n",
    "\n",
    "\n",
    "\n",
    "\n",
    "\n",
    "\n",
    "Como criar uma matriz? Precisamos usar o latex\n",
    "\n",
    "$\\begin{matrix} 11 & 23 \\\\ 34 & 45 \\end{matrix}$\n",
    "\n",
    "\n",
    "E se for fução definida por partes?\n",
    "\n",
    "$f(x) = \\begin{cases} x^2+1 & se \\ x <1 \\\\ 3-x^3 & se \\ x>=1 \\end{cases}$"
   ]
  },
  {
   "attachments": {},
   "cell_type": "markdown",
   "metadata": {},
   "source": [
    "# &ensp; Análise\n",
    "(Apresente vantagens e desvantagens do método proposto)\n",
    "Com os experimentos apresentados na seção anterior, foi possível observar que...."
   ]
  },
  {
   "attachments": {},
   "cell_type": "markdown",
   "metadata": {},
   "source": [
    "# &ensp; Conclusões\n",
    "(O fechamento do seu documento)\n",
    "Neste relatório, foi explorado o problema de X. A implementação da solução...\n",
    "Os resultados parecem estar de acordo...\n",
    "Os pontos A e B ainda precisam ser explorados..."
   ]
  },
  {
   "attachments": {},
   "cell_type": "markdown",
   "metadata": {},
   "source": [
    "# &ensp; Referências\n",
    "(Referencie toda teoria ou outros trabalhos citados no texto – forma livre, mas ordenada)\n",
    "[1] A.B. SMITH, C.D. JONES, e E.F. ROBERTS, “Título do artigo”, Jornal, Editora, Data, pp. 1-10. \n",
    "[2] JONES, C.D., A.B. SMITH, e E.F. ROBERTS, Título do Livro, Editora, Data. \n",
    "[3] Sites da Internet: www.adobe.com, acesso em 10/09/2010."
   ]
  }
 ],
 "metadata": {
  "kernelspec": {
   "display_name": "Python 3",
   "language": "python",
   "name": "python3"
  },
  "language_info": {
   "codemirror_mode": {
    "name": "ipython",
    "version": 3
   },
   "file_extension": ".py",
   "mimetype": "text/x-python",
   "name": "python",
   "nbconvert_exporter": "python",
   "pygments_lexer": "ipython3",
   "version": "3.10.6"
  },
  "orig_nbformat": 4,
  "vscode": {
   "interpreter": {
    "hash": "32f2fe102a4f10662d8c13f75131e1ba377b7194060421a642fdea27c55fc65a"
   }
  }
 },
 "nbformat": 4,
 "nbformat_minor": 2
}
